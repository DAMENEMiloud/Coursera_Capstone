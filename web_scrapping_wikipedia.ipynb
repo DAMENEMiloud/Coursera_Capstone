{
  "nbformat": 4,
  "nbformat_minor": 0,
  "metadata": {
    "colab": {
      "name": "web_scrapping_wikipedia.ipynb",
      "provenance": [],
      "collapsed_sections": []
    },
    "kernelspec": {
      "name": "python3",
      "display_name": "Python 3"
    }
  },
  "cells": [
    {
      "cell_type": "markdown",
      "metadata": {
        "id": "KN3JJDURIUbx",
        "colab_type": "text"
      },
      "source": [
        "# **Install and import libraries**"
      ]
    },
    {
      "cell_type": "code",
      "metadata": {
        "id": "gjGBHnX5fqAZ",
        "colab_type": "code",
        "colab": {
          "base_uri": "https://localhost:8080/",
          "height": 139
        },
        "outputId": "f85ac252-fc32-4954-b8b8-a3f169573ed0"
      },
      "source": [
        "pip install selenium"
      ],
      "execution_count": 1,
      "outputs": [
        {
          "output_type": "stream",
          "text": [
            "Collecting selenium\n",
            "\u001b[?25l  Downloading https://files.pythonhosted.org/packages/80/d6/4294f0b4bce4de0abf13e17190289f9d0613b0a44e5dd6a7f5ca98459853/selenium-3.141.0-py2.py3-none-any.whl (904kB)\n",
            "\r\u001b[K     |▍                               | 10kB 20.6MB/s eta 0:00:01\r\u001b[K     |▊                               | 20kB 1.8MB/s eta 0:00:01\r\u001b[K     |█                               | 30kB 2.3MB/s eta 0:00:01\r\u001b[K     |█▌                              | 40kB 1.7MB/s eta 0:00:01\r\u001b[K     |█▉                              | 51kB 1.9MB/s eta 0:00:01\r\u001b[K     |██▏                             | 61kB 2.2MB/s eta 0:00:01\r\u001b[K     |██▌                             | 71kB 2.4MB/s eta 0:00:01\r\u001b[K     |███                             | 81kB 2.6MB/s eta 0:00:01\r\u001b[K     |███▎                            | 92kB 2.9MB/s eta 0:00:01\r\u001b[K     |███▋                            | 102kB 2.8MB/s eta 0:00:01\r\u001b[K     |████                            | 112kB 2.8MB/s eta 0:00:01\r\u001b[K     |████▍                           | 122kB 2.8MB/s eta 0:00:01\r\u001b[K     |████▊                           | 133kB 2.8MB/s eta 0:00:01\r\u001b[K     |█████                           | 143kB 2.8MB/s eta 0:00:01\r\u001b[K     |█████▍                          | 153kB 2.8MB/s eta 0:00:01\r\u001b[K     |█████▉                          | 163kB 2.8MB/s eta 0:00:01\r\u001b[K     |██████▏                         | 174kB 2.8MB/s eta 0:00:01\r\u001b[K     |██████▌                         | 184kB 2.8MB/s eta 0:00:01\r\u001b[K     |██████▉                         | 194kB 2.8MB/s eta 0:00:01\r\u001b[K     |███████▎                        | 204kB 2.8MB/s eta 0:00:01\r\u001b[K     |███████▋                        | 215kB 2.8MB/s eta 0:00:01\r\u001b[K     |████████                        | 225kB 2.8MB/s eta 0:00:01\r\u001b[K     |████████▎                       | 235kB 2.8MB/s eta 0:00:01\r\u001b[K     |████████▊                       | 245kB 2.8MB/s eta 0:00:01\r\u001b[K     |█████████                       | 256kB 2.8MB/s eta 0:00:01\r\u001b[K     |█████████▍                      | 266kB 2.8MB/s eta 0:00:01\r\u001b[K     |█████████▉                      | 276kB 2.8MB/s eta 0:00:01\r\u001b[K     |██████████▏                     | 286kB 2.8MB/s eta 0:00:01\r\u001b[K     |██████████▌                     | 296kB 2.8MB/s eta 0:00:01\r\u001b[K     |██████████▉                     | 307kB 2.8MB/s eta 0:00:01\r\u001b[K     |███████████▎                    | 317kB 2.8MB/s eta 0:00:01\r\u001b[K     |███████████▋                    | 327kB 2.8MB/s eta 0:00:01\r\u001b[K     |████████████                    | 337kB 2.8MB/s eta 0:00:01\r\u001b[K     |████████████▎                   | 348kB 2.8MB/s eta 0:00:01\r\u001b[K     |████████████▊                   | 358kB 2.8MB/s eta 0:00:01\r\u001b[K     |█████████████                   | 368kB 2.8MB/s eta 0:00:01\r\u001b[K     |█████████████▍                  | 378kB 2.8MB/s eta 0:00:01\r\u001b[K     |█████████████▊                  | 389kB 2.8MB/s eta 0:00:01\r\u001b[K     |██████████████▏                 | 399kB 2.8MB/s eta 0:00:01\r\u001b[K     |██████████████▌                 | 409kB 2.8MB/s eta 0:00:01\r\u001b[K     |██████████████▉                 | 419kB 2.8MB/s eta 0:00:01\r\u001b[K     |███████████████▏                | 430kB 2.8MB/s eta 0:00:01\r\u001b[K     |███████████████▋                | 440kB 2.8MB/s eta 0:00:01\r\u001b[K     |████████████████                | 450kB 2.8MB/s eta 0:00:01\r\u001b[K     |████████████████▎               | 460kB 2.8MB/s eta 0:00:01\r\u001b[K     |████████████████▋               | 471kB 2.8MB/s eta 0:00:01\r\u001b[K     |█████████████████               | 481kB 2.8MB/s eta 0:00:01\r\u001b[K     |█████████████████▍              | 491kB 2.8MB/s eta 0:00:01\r\u001b[K     |█████████████████▊              | 501kB 2.8MB/s eta 0:00:01\r\u001b[K     |██████████████████▏             | 512kB 2.8MB/s eta 0:00:01\r\u001b[K     |██████████████████▌             | 522kB 2.8MB/s eta 0:00:01\r\u001b[K     |██████████████████▉             | 532kB 2.8MB/s eta 0:00:01\r\u001b[K     |███████████████████▏            | 542kB 2.8MB/s eta 0:00:01\r\u001b[K     |███████████████████▋            | 552kB 2.8MB/s eta 0:00:01\r\u001b[K     |████████████████████            | 563kB 2.8MB/s eta 0:00:01\r\u001b[K     |████████████████████▎           | 573kB 2.8MB/s eta 0:00:01\r\u001b[K     |████████████████████▋           | 583kB 2.8MB/s eta 0:00:01\r\u001b[K     |█████████████████████           | 593kB 2.8MB/s eta 0:00:01\r\u001b[K     |█████████████████████▍          | 604kB 2.8MB/s eta 0:00:01\r\u001b[K     |█████████████████████▊          | 614kB 2.8MB/s eta 0:00:01\r\u001b[K     |██████████████████████          | 624kB 2.8MB/s eta 0:00:01\r\u001b[K     |██████████████████████▌         | 634kB 2.8MB/s eta 0:00:01\r\u001b[K     |██████████████████████▉         | 645kB 2.8MB/s eta 0:00:01\r\u001b[K     |███████████████████████▏        | 655kB 2.8MB/s eta 0:00:01\r\u001b[K     |███████████████████████▌        | 665kB 2.8MB/s eta 0:00:01\r\u001b[K     |████████████████████████        | 675kB 2.8MB/s eta 0:00:01\r\u001b[K     |████████████████████████▎       | 686kB 2.8MB/s eta 0:00:01\r\u001b[K     |████████████████████████▋       | 696kB 2.8MB/s eta 0:00:01\r\u001b[K     |█████████████████████████       | 706kB 2.8MB/s eta 0:00:01\r\u001b[K     |█████████████████████████▍      | 716kB 2.8MB/s eta 0:00:01\r\u001b[K     |█████████████████████████▊      | 727kB 2.8MB/s eta 0:00:01\r\u001b[K     |██████████████████████████      | 737kB 2.8MB/s eta 0:00:01\r\u001b[K     |██████████████████████████▍     | 747kB 2.8MB/s eta 0:00:01\r\u001b[K     |██████████████████████████▉     | 757kB 2.8MB/s eta 0:00:01\r\u001b[K     |███████████████████████████▏    | 768kB 2.8MB/s eta 0:00:01\r\u001b[K     |███████████████████████████▌    | 778kB 2.8MB/s eta 0:00:01\r\u001b[K     |████████████████████████████    | 788kB 2.8MB/s eta 0:00:01\r\u001b[K     |████████████████████████████▎   | 798kB 2.8MB/s eta 0:00:01\r\u001b[K     |████████████████████████████▋   | 808kB 2.8MB/s eta 0:00:01\r\u001b[K     |█████████████████████████████   | 819kB 2.8MB/s eta 0:00:01\r\u001b[K     |█████████████████████████████▍  | 829kB 2.8MB/s eta 0:00:01\r\u001b[K     |█████████████████████████████▊  | 839kB 2.8MB/s eta 0:00:01\r\u001b[K     |██████████████████████████████  | 849kB 2.8MB/s eta 0:00:01\r\u001b[K     |██████████████████████████████▍ | 860kB 2.8MB/s eta 0:00:01\r\u001b[K     |██████████████████████████████▉ | 870kB 2.8MB/s eta 0:00:01\r\u001b[K     |███████████████████████████████▏| 880kB 2.8MB/s eta 0:00:01\r\u001b[K     |███████████████████████████████▌| 890kB 2.8MB/s eta 0:00:01\r\u001b[K     |███████████████████████████████▉| 901kB 2.8MB/s eta 0:00:01\r\u001b[K     |████████████████████████████████| 911kB 2.8MB/s \n",
            "\u001b[?25hRequirement already satisfied: urllib3 in /usr/local/lib/python3.6/dist-packages (from selenium) (1.24.3)\n",
            "Installing collected packages: selenium\n",
            "Successfully installed selenium-3.141.0\n"
          ],
          "name": "stdout"
        }
      ]
    },
    {
      "cell_type": "code",
      "metadata": {
        "id": "XmsnihOFfv5W",
        "colab_type": "code",
        "colab": {}
      },
      "source": [
        "from bs4 import BeautifulSoup\n",
        "from selenium import webdriver\n",
        "import pandas as pd"
      ],
      "execution_count": 0,
      "outputs": []
    },
    {
      "cell_type": "code",
      "metadata": {
        "id": "OH8noPdjf1gu",
        "colab_type": "code",
        "colab": {
          "base_uri": "https://localhost:8080/",
          "height": 105
        },
        "outputId": "520c2206-4107-4c37-bedc-7eb18f3ed364"
      },
      "source": [
        "!apt install chromium-chromedriver\n",
        "!cp /usr/lib/chromium-browser/chromedriver /usr/bin\n",
        "import sys\n",
        "sys.path.insert(0,'/usr/lib/chromium-browser/chromedriver')\n",
        "from selenium import webdriver\n",
        "chrome_options = webdriver.ChromeOptions()\n",
        "chrome_options.add_argument('--headless')\n",
        "chrome_options.add_argument('--no-sandbox')\n",
        "chrome_options.add_argument('--disable-dev-shm-usage')"
      ],
      "execution_count": 5,
      "outputs": [
        {
          "output_type": "stream",
          "text": [
            "E: dpkg was interrupted, you must manually run 'dpkg --configure -a' to correct the problem. \n",
            "cp: '/usr/lib/chromium-browser/chromedriver' and '/usr/bin/chromedriver' are the same file\n"
          ],
          "name": "stdout"
        },
        {
          "output_type": "stream",
          "text": [
            "/usr/local/lib/python3.6/dist-packages/ipykernel_launcher.py:10: DeprecationWarning: use options instead of chrome_options\n",
            "  # Remove the CWD from sys.path while we load stuff.\n"
          ],
          "name": "stderr"
        }
      ]
    },
    {
      "cell_type": "markdown",
      "metadata": {
        "id": "5JT6clAlIjCX",
        "colab_type": "text"
      },
      "source": [
        "# **Get data from wikipedia using the link**"
      ]
    },
    {
      "cell_type": "code",
      "metadata": {
        "id": "VfuWg-gZIh_A",
        "colab_type": "code",
        "colab": {}
      },
      "source": [
        "wd = webdriver.Chrome('chromedriver',chrome_options=chrome_options)\n",
        "wd.get(\"https://en.wikipedia.org/wiki/List_of_postal_codes_of_Canada:_M\")"
      ],
      "execution_count": 0,
      "outputs": []
    },
    {
      "cell_type": "code",
      "metadata": {
        "id": "0Zm0FkKZgJgb",
        "colab_type": "code",
        "colab": {}
      },
      "source": [
        "content = wd.page_source\n",
        "soup = BeautifulSoup(content)"
      ],
      "execution_count": 0,
      "outputs": []
    },
    {
      "cell_type": "markdown",
      "metadata": {
        "id": "ED1981VgIuqN",
        "colab_type": "text"
      },
      "source": [
        "# **Get the table of neibourhoods in Toronto from wikipedia**"
      ]
    },
    {
      "cell_type": "code",
      "metadata": {
        "id": "x7zJ4ZcmoecI",
        "colab_type": "code",
        "colab": {}
      },
      "source": [
        "table = soup.find('table', attrs={'class':'wikitable sortable jquery-tablesorter'})\n",
        "df = pd.read_html(str(table))[0]"
      ],
      "execution_count": 0,
      "outputs": []
    },
    {
      "cell_type": "code",
      "metadata": {
        "id": "pLJzf9U_ojWv",
        "colab_type": "code",
        "colab": {
          "base_uri": "https://localhost:8080/",
          "height": 204
        },
        "outputId": "13378641-dfab-4e43-dad4-354619d6bc97"
      },
      "source": [
        "df.head()"
      ],
      "execution_count": 94,
      "outputs": [
        {
          "output_type": "execute_result",
          "data": {
            "text/html": [
              "<div>\n",
              "<style scoped>\n",
              "    .dataframe tbody tr th:only-of-type {\n",
              "        vertical-align: middle;\n",
              "    }\n",
              "\n",
              "    .dataframe tbody tr th {\n",
              "        vertical-align: top;\n",
              "    }\n",
              "\n",
              "    .dataframe thead th {\n",
              "        text-align: right;\n",
              "    }\n",
              "</style>\n",
              "<table border=\"1\" class=\"dataframe\">\n",
              "  <thead>\n",
              "    <tr style=\"text-align: right;\">\n",
              "      <th></th>\n",
              "      <th>Postcode</th>\n",
              "      <th>Borough</th>\n",
              "      <th>Neighbourhood</th>\n",
              "    </tr>\n",
              "  </thead>\n",
              "  <tbody>\n",
              "    <tr>\n",
              "      <th>0</th>\n",
              "      <td>M1A</td>\n",
              "      <td>Not assigned</td>\n",
              "      <td>Not assigned</td>\n",
              "    </tr>\n",
              "    <tr>\n",
              "      <th>1</th>\n",
              "      <td>M2A</td>\n",
              "      <td>Not assigned</td>\n",
              "      <td>Not assigned</td>\n",
              "    </tr>\n",
              "    <tr>\n",
              "      <th>2</th>\n",
              "      <td>M3A</td>\n",
              "      <td>North York</td>\n",
              "      <td>Parkwoods</td>\n",
              "    </tr>\n",
              "    <tr>\n",
              "      <th>3</th>\n",
              "      <td>M4A</td>\n",
              "      <td>North York</td>\n",
              "      <td>Victoria Village</td>\n",
              "    </tr>\n",
              "    <tr>\n",
              "      <th>4</th>\n",
              "      <td>M5A</td>\n",
              "      <td>Downtown Toronto</td>\n",
              "      <td>Harbourfront</td>\n",
              "    </tr>\n",
              "  </tbody>\n",
              "</table>\n",
              "</div>"
            ],
            "text/plain": [
              "  Postcode           Borough     Neighbourhood\n",
              "0      M1A      Not assigned      Not assigned\n",
              "1      M2A      Not assigned      Not assigned\n",
              "2      M3A        North York         Parkwoods\n",
              "3      M4A        North York  Victoria Village\n",
              "4      M5A  Downtown Toronto      Harbourfront"
            ]
          },
          "metadata": {
            "tags": []
          },
          "execution_count": 94
        }
      ]
    },
    {
      "cell_type": "markdown",
      "metadata": {
        "id": "buWw0RhaJB0p",
        "colab_type": "text"
      },
      "source": [
        "# **Ignore cells with a borough that is Not assigned**"
      ]
    },
    {
      "cell_type": "code",
      "metadata": {
        "id": "fXUH7Natkckm",
        "colab_type": "code",
        "colab": {}
      },
      "source": [
        "df = df[df['Borough']!='Not assigned']"
      ],
      "execution_count": 0,
      "outputs": []
    },
    {
      "cell_type": "code",
      "metadata": {
        "id": "O5liT-JGt3B3",
        "colab_type": "code",
        "colab": {
          "base_uri": "https://localhost:8080/",
          "height": 419
        },
        "outputId": "58351454-6206-4cc5-da13-1306834d8353"
      },
      "source": [
        "df"
      ],
      "execution_count": 111,
      "outputs": [
        {
          "output_type": "execute_result",
          "data": {
            "text/html": [
              "<div>\n",
              "<style scoped>\n",
              "    .dataframe tbody tr th:only-of-type {\n",
              "        vertical-align: middle;\n",
              "    }\n",
              "\n",
              "    .dataframe tbody tr th {\n",
              "        vertical-align: top;\n",
              "    }\n",
              "\n",
              "    .dataframe thead th {\n",
              "        text-align: right;\n",
              "    }\n",
              "</style>\n",
              "<table border=\"1\" class=\"dataframe\">\n",
              "  <thead>\n",
              "    <tr style=\"text-align: right;\">\n",
              "      <th></th>\n",
              "      <th>Postcode</th>\n",
              "      <th>Borough</th>\n",
              "      <th>Neighbourhood</th>\n",
              "    </tr>\n",
              "  </thead>\n",
              "  <tbody>\n",
              "    <tr>\n",
              "      <th>2</th>\n",
              "      <td>M3A</td>\n",
              "      <td>North York</td>\n",
              "      <td>Parkwoods</td>\n",
              "    </tr>\n",
              "    <tr>\n",
              "      <th>3</th>\n",
              "      <td>M4A</td>\n",
              "      <td>North York</td>\n",
              "      <td>Victoria Village</td>\n",
              "    </tr>\n",
              "    <tr>\n",
              "      <th>4</th>\n",
              "      <td>M5A</td>\n",
              "      <td>Downtown Toronto</td>\n",
              "      <td>Harbourfront</td>\n",
              "    </tr>\n",
              "    <tr>\n",
              "      <th>5</th>\n",
              "      <td>M6A</td>\n",
              "      <td>North York</td>\n",
              "      <td>Lawrence Heights</td>\n",
              "    </tr>\n",
              "    <tr>\n",
              "      <th>6</th>\n",
              "      <td>M6A</td>\n",
              "      <td>North York</td>\n",
              "      <td>Lawrence Manor</td>\n",
              "    </tr>\n",
              "    <tr>\n",
              "      <th>...</th>\n",
              "      <td>...</td>\n",
              "      <td>...</td>\n",
              "      <td>...</td>\n",
              "    </tr>\n",
              "    <tr>\n",
              "      <th>281</th>\n",
              "      <td>M8Z</td>\n",
              "      <td>Etobicoke</td>\n",
              "      <td>Kingsway Park South West</td>\n",
              "    </tr>\n",
              "    <tr>\n",
              "      <th>282</th>\n",
              "      <td>M8Z</td>\n",
              "      <td>Etobicoke</td>\n",
              "      <td>Mimico NW</td>\n",
              "    </tr>\n",
              "    <tr>\n",
              "      <th>283</th>\n",
              "      <td>M8Z</td>\n",
              "      <td>Etobicoke</td>\n",
              "      <td>The Queensway West</td>\n",
              "    </tr>\n",
              "    <tr>\n",
              "      <th>284</th>\n",
              "      <td>M8Z</td>\n",
              "      <td>Etobicoke</td>\n",
              "      <td>Royal York South West</td>\n",
              "    </tr>\n",
              "    <tr>\n",
              "      <th>285</th>\n",
              "      <td>M8Z</td>\n",
              "      <td>Etobicoke</td>\n",
              "      <td>South of Bloor</td>\n",
              "    </tr>\n",
              "  </tbody>\n",
              "</table>\n",
              "<p>210 rows × 3 columns</p>\n",
              "</div>"
            ],
            "text/plain": [
              "    Postcode           Borough             Neighbourhood\n",
              "2        M3A        North York                 Parkwoods\n",
              "3        M4A        North York          Victoria Village\n",
              "4        M5A  Downtown Toronto              Harbourfront\n",
              "5        M6A        North York          Lawrence Heights\n",
              "6        M6A        North York            Lawrence Manor\n",
              "..       ...               ...                       ...\n",
              "281      M8Z         Etobicoke  Kingsway Park South West\n",
              "282      M8Z         Etobicoke                 Mimico NW\n",
              "283      M8Z         Etobicoke        The Queensway West\n",
              "284      M8Z         Etobicoke     Royal York South West\n",
              "285      M8Z         Etobicoke            South of Bloor\n",
              "\n",
              "[210 rows x 3 columns]"
            ]
          },
          "metadata": {
            "tags": []
          },
          "execution_count": 111
        }
      ]
    },
    {
      "cell_type": "code",
      "metadata": {
        "id": "6j4Y_o2jx4It",
        "colab_type": "code",
        "colab": {}
      },
      "source": [
        "df = df.reset_index(drop=True)"
      ],
      "execution_count": 0,
      "outputs": []
    },
    {
      "cell_type": "markdown",
      "metadata": {
        "id": "XwEXQDOtJSNy",
        "colab_type": "text"
      },
      "source": [
        "# **Combine rows with the same PostCode in one row by combining neighbourhoods**"
      ]
    },
    {
      "cell_type": "code",
      "metadata": {
        "id": "GlBMvhxtvb0H",
        "colab_type": "code",
        "colab": {
          "base_uri": "https://localhost:8080/",
          "height": 49
        },
        "outputId": "7fda0fda-74f2-4479-b455-8e3787d59408"
      },
      "source": [
        "df2 = pd.DataFrame(columns = ('Postcode','Borough','Neighbourhood'))\n",
        "df2"
      ],
      "execution_count": 166,
      "outputs": [
        {
          "output_type": "execute_result",
          "data": {
            "text/html": [
              "<div>\n",
              "<style scoped>\n",
              "    .dataframe tbody tr th:only-of-type {\n",
              "        vertical-align: middle;\n",
              "    }\n",
              "\n",
              "    .dataframe tbody tr th {\n",
              "        vertical-align: top;\n",
              "    }\n",
              "\n",
              "    .dataframe thead th {\n",
              "        text-align: right;\n",
              "    }\n",
              "</style>\n",
              "<table border=\"1\" class=\"dataframe\">\n",
              "  <thead>\n",
              "    <tr style=\"text-align: right;\">\n",
              "      <th></th>\n",
              "      <th>Postcode</th>\n",
              "      <th>Borough</th>\n",
              "      <th>Neighbourhood</th>\n",
              "    </tr>\n",
              "  </thead>\n",
              "  <tbody>\n",
              "  </tbody>\n",
              "</table>\n",
              "</div>"
            ],
            "text/plain": [
              "Empty DataFrame\n",
              "Columns: [Postcode, Borough, Neighbourhood]\n",
              "Index: []"
            ]
          },
          "metadata": {
            "tags": []
          },
          "execution_count": 166
        }
      ]
    },
    {
      "cell_type": "code",
      "metadata": {
        "id": "Kw9Ci4xetOoS",
        "colab_type": "code",
        "colab": {}
      },
      "source": [
        "ind = 0\n",
        "for i in range(len(df)):\n",
        "  if (df['Postcode'][i] in df2.Postcode.values) == True :\n",
        "    for j in range(len(df2)):\n",
        "      if df2['Postcode'][j] == df['Postcode'][i]:\n",
        "        df2['Neighbourhood'][j] = (df2['Neighbourhood'][j] + ', ' +df['Neighbourhood'][i])\n",
        "  else :\n",
        "    df2.loc[ind] = list(df.loc[i])\n",
        "    ind = ind+1"
      ],
      "execution_count": 0,
      "outputs": []
    },
    {
      "cell_type": "markdown",
      "metadata": {
        "id": "_2PzTK8hJt8M",
        "colab_type": "text"
      },
      "source": [
        "# **Display dataframe**"
      ]
    },
    {
      "cell_type": "code",
      "metadata": {
        "id": "Owd63IQExejb",
        "colab_type": "code",
        "colab": {
          "base_uri": "https://localhost:8080/",
          "height": 419
        },
        "outputId": "b4278334-7ad6-456f-c56e-554e64bfa8d5"
      },
      "source": [
        "df2"
      ],
      "execution_count": 168,
      "outputs": [
        {
          "output_type": "execute_result",
          "data": {
            "text/html": [
              "<div>\n",
              "<style scoped>\n",
              "    .dataframe tbody tr th:only-of-type {\n",
              "        vertical-align: middle;\n",
              "    }\n",
              "\n",
              "    .dataframe tbody tr th {\n",
              "        vertical-align: top;\n",
              "    }\n",
              "\n",
              "    .dataframe thead th {\n",
              "        text-align: right;\n",
              "    }\n",
              "</style>\n",
              "<table border=\"1\" class=\"dataframe\">\n",
              "  <thead>\n",
              "    <tr style=\"text-align: right;\">\n",
              "      <th></th>\n",
              "      <th>Postcode</th>\n",
              "      <th>Borough</th>\n",
              "      <th>Neighbourhood</th>\n",
              "    </tr>\n",
              "  </thead>\n",
              "  <tbody>\n",
              "    <tr>\n",
              "      <th>0</th>\n",
              "      <td>M3A</td>\n",
              "      <td>North York</td>\n",
              "      <td>Parkwoods</td>\n",
              "    </tr>\n",
              "    <tr>\n",
              "      <th>1</th>\n",
              "      <td>M4A</td>\n",
              "      <td>North York</td>\n",
              "      <td>Victoria Village</td>\n",
              "    </tr>\n",
              "    <tr>\n",
              "      <th>2</th>\n",
              "      <td>M5A</td>\n",
              "      <td>Downtown Toronto</td>\n",
              "      <td>Harbourfront</td>\n",
              "    </tr>\n",
              "    <tr>\n",
              "      <th>3</th>\n",
              "      <td>M6A</td>\n",
              "      <td>North York</td>\n",
              "      <td>Lawrence Heights, Lawrence Manor</td>\n",
              "    </tr>\n",
              "    <tr>\n",
              "      <th>4</th>\n",
              "      <td>M7A</td>\n",
              "      <td>Downtown Toronto</td>\n",
              "      <td>Queen's Park</td>\n",
              "    </tr>\n",
              "    <tr>\n",
              "      <th>...</th>\n",
              "      <td>...</td>\n",
              "      <td>...</td>\n",
              "      <td>...</td>\n",
              "    </tr>\n",
              "    <tr>\n",
              "      <th>98</th>\n",
              "      <td>M8X</td>\n",
              "      <td>Etobicoke</td>\n",
              "      <td>The Kingsway, Montgomery Road, Old Mill North</td>\n",
              "    </tr>\n",
              "    <tr>\n",
              "      <th>99</th>\n",
              "      <td>M4Y</td>\n",
              "      <td>Downtown Toronto</td>\n",
              "      <td>Church and Wellesley</td>\n",
              "    </tr>\n",
              "    <tr>\n",
              "      <th>100</th>\n",
              "      <td>M7Y</td>\n",
              "      <td>East Toronto</td>\n",
              "      <td>Business Reply Mail Processing Centre 969 Eastern</td>\n",
              "    </tr>\n",
              "    <tr>\n",
              "      <th>101</th>\n",
              "      <td>M8Y</td>\n",
              "      <td>Etobicoke</td>\n",
              "      <td>Humber Bay, King's Mill Park, Kingsway Park So...</td>\n",
              "    </tr>\n",
              "    <tr>\n",
              "      <th>102</th>\n",
              "      <td>M8Z</td>\n",
              "      <td>Etobicoke</td>\n",
              "      <td>Kingsway Park South West, Mimico NW, The Queen...</td>\n",
              "    </tr>\n",
              "  </tbody>\n",
              "</table>\n",
              "<p>103 rows × 3 columns</p>\n",
              "</div>"
            ],
            "text/plain": [
              "    Postcode  ...                                      Neighbourhood\n",
              "0        M3A  ...                                          Parkwoods\n",
              "1        M4A  ...                                   Victoria Village\n",
              "2        M5A  ...                                       Harbourfront\n",
              "3        M6A  ...                   Lawrence Heights, Lawrence Manor\n",
              "4        M7A  ...                                       Queen's Park\n",
              "..       ...  ...                                                ...\n",
              "98       M8X  ...      The Kingsway, Montgomery Road, Old Mill North\n",
              "99       M4Y  ...                               Church and Wellesley\n",
              "100      M7Y  ...  Business Reply Mail Processing Centre 969 Eastern\n",
              "101      M8Y  ...  Humber Bay, King's Mill Park, Kingsway Park So...\n",
              "102      M8Z  ...  Kingsway Park South West, Mimico NW, The Queen...\n",
              "\n",
              "[103 rows x 3 columns]"
            ]
          },
          "metadata": {
            "tags": []
          },
          "execution_count": 168
        }
      ]
    },
    {
      "cell_type": "markdown",
      "metadata": {
        "id": "suMHfHHpJjpq",
        "colab_type": "text"
      },
      "source": [
        "# **Print the number of rows in the finale dataframe**"
      ]
    },
    {
      "cell_type": "code",
      "metadata": {
        "id": "vrmbE7hf01ld",
        "colab_type": "code",
        "colab": {
          "base_uri": "https://localhost:8080/",
          "height": 34
        },
        "outputId": "9c20b3b2-c128-4135-c86c-8c3e5b087fa1"
      },
      "source": [
        "print('The number of rows in our finale dataframe is : ' + str(df2.shape[0]))"
      ],
      "execution_count": 175,
      "outputs": [
        {
          "output_type": "stream",
          "text": [
            "The number of rows in our finale dataframe is : 103\n"
          ],
          "name": "stdout"
        }
      ]
    },
    {
      "cell_type": "markdown",
      "metadata": {
        "id": "cWX-dxYZO9_3",
        "colab_type": "text"
      },
      "source": [
        "# **Download the dataframe as a csv file**"
      ]
    },
    {
      "cell_type": "code",
      "metadata": {
        "id": "Kwccrbf-1Ghz",
        "colab_type": "code",
        "colab": {}
      },
      "source": [
        "df2.to_csv('data.csv')"
      ],
      "execution_count": 0,
      "outputs": []
    },
    {
      "cell_type": "code",
      "metadata": {
        "id": "V2yD1gA7PEAb",
        "colab_type": "code",
        "colab": {}
      },
      "source": [
        ""
      ],
      "execution_count": 0,
      "outputs": []
    }
  ]
}